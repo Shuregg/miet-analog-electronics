{
  "nbformat": 4,
  "nbformat_minor": 0,
  "metadata": {
    "colab": {
      "provenance": [],
      "authorship_tag": "ABX9TyOgFQK834/mRll7Y4Tscb8x",
      "include_colab_link": true
    },
    "kernelspec": {
      "name": "python3",
      "display_name": "Python 3"
    },
    "language_info": {
      "name": "python"
    }
  },
  "cells": [
    {
      "cell_type": "markdown",
      "metadata": {
        "id": "view-in-github",
        "colab_type": "text"
      },
      "source": [
        "<a href=\"https://colab.research.google.com/github/Shuregg/miet-analog-electronics/blob/main/AnalogElectronic_Lab2.ipynb\" target=\"_parent\"><img src=\"https://colab.research.google.com/assets/colab-badge.svg\" alt=\"Open In Colab\"/></a>"
      ]
    },
    {
      "cell_type": "markdown",
      "source": [
        "LAB2: Impulse Voltage Stabilizer"
      ],
      "metadata": {
        "id": "cWs5YSbq_Jcm"
      }
    },
    {
      "cell_type": "code",
      "source": [
        "#1. Исходные данные:\n",
        "Uin = 7 #Volt\n",
        "Uout = 16.8 #Volt\n",
        "dUout = 0.02\n",
        "Rload = 120 #Om\n",
        "f = 20000 #40'000 - 150'000 Hz\n",
        "LIR = 0.3\n",
        "R_L   = 0.2 #Om, Resistance of inductor\n",
        "print(\"IDEAL STABILIZER\")\n",
        "print(\"------------------------------------\")\n",
        "print(\"   INPUT  DATA    \")\n",
        "\n",
        "print(\"Uin       [V]: \", Uin)\n",
        "print(\"Uout      [V]: \", Uout)\n",
        "print(\"dUout     [%]: \", dUout * 100)\n",
        "print(\"Rload    [Om]: \", Rload)\n",
        "print(\"Freq    [1/s]: \", f)\n",
        "print(\"LIR          : \", LIR)\n",
        "print(\"R_ind    [Om]: \", R_L)\n",
        "print(\"------------------------------------\")\n",
        "print(\"   OUTPUT DATA    \")\n",
        "#Ia = #average current\n",
        "#dIout = LIR * Ia\n",
        "\n",
        "#2. Расчет номиналов:\n",
        "#2.1 Определим коэффициент заполнения импульсов\n",
        "D = 1 - (Uin / Uout) #t_imp / T\n",
        "print(\"D:              \", D)\n",
        "\n",
        "#2.2 Ток нагрузки:\n",
        "Iout = Uout / Rload\n",
        "print(\"Iout       [A]: \", Iout)\n",
        "\n",
        "#2.3 Период коммутации\n",
        "T = 1 / f\n",
        "print(\"T         [us]: \", T * 10**6)\n",
        "\n",
        "#2.4 Определим минимальную индуктивность катушки\n",
        "Lmin = (Uin**2 * D) / (Iout * Uout * LIR * f)\n",
        "print(\"Lmin      [uH]: \", Lmin * 10**6) #Lmin [uH]:  2153.3203125 ~~ 2200 uH = 2.2 mU\n",
        "\n",
        "#L >= Lmin\n",
        "# !!!CKECK NEAREST VALUE FOR L IN THE E24 ROW!!!\n",
        "\n",
        "#2.5 Ближайшее значение из ряда E24 - 2200 мкГн\n",
        "L = 2.2 * 10**-3 #Henry\n",
        "print(\"L         [uH]: \", L * 10**6)\n",
        "\n",
        "#2.6 Абсолютная величина погрешности выходного напряжения\n",
        "absdUout = dUout * Uout\n",
        "print(\"absdUout   [V]: \", absdUout)\n",
        "\n",
        "#t_imp - ?; Iin - ?;\n",
        "\n",
        "#Время импульса (I-го такта)\n",
        "t_imp = D * T\n",
        "print(\"t_impulse [us]: \", t_imp * 10**6)\n",
        "\n",
        "#Входной ток (катушки)\n",
        "#Iin = Uin / R_L #?????? 35 A too much\n",
        "print(\"Iin        [A]: \", Iin)\n",
        "\n",
        "#2.7 Минимальная ёмкость конденсатора\n",
        "#Cout_min = (((Iin - Iout) * (T - t_imp)) / (absdUout))\n",
        "#print(\"Cout_min  [uF]: \", Cout_min * 10 ** 6)\n",
        "#Cout = 2400 * 10**-6\n",
        "#print(\"Cout      [uF]: \", Cout * 10 ** 6)\n",
        "\n",
        "print(\"------------------------------------\")\n",
        "di1 = (Uin * D * T) / (L)\n",
        "di2 = ((Uin - Uout) * (1-D) * T) / (L)\n",
        "print(\"di1        [A]:  \", di1)\n",
        "print(\"di2        [A]: \", di2)\n",
        "\n",
        "if (-(10**-5) <= di1+di2 <= 10**-5):\n",
        "  print(\"\\ndi1 + di2 = \", di1 + di2)\n",
        "  print(\"The law of conservation of energy is observed!\\n\")\n",
        "\n",
        "Imax = (LIR / (4 * di1)) + (di1 / 2)\n",
        "Imin = Imax - di1\n",
        "\n",
        "print(\"Imax       [A]:  \", Imax)\n",
        "print(\"Imin       [A]:  \", Imin)\n",
        "\n",
        "Iin = Uout * Iout / Uin\n",
        "Cout_min2 = (((Iin)) - Iout) * (T - t_imp) / (absdUout)\n",
        "\n",
        "print(\"Iin [A]\",Iin)\n",
        "print(\"Cout_min  [uF]: \", Cout_min2 * 10 ** 6)\n",
        "#Cout2 = 51 * 10 **-6\n",
        "#print(\"Cout      [uF]: \", Cout2 * 10 ** 6)\n",
        "\n",
        "Pin = Iin * Uin\n",
        "print(\"Pin        [W]: \", Pin)\n",
        "\n",
        "\n",
        "#CPA"
      ],
      "metadata": {
        "colab": {
          "base_uri": "https://localhost:8080/"
        },
        "id": "hyQayoCchtXh",
        "outputId": "9844b2d1-b69d-4b9c-ec4b-ad569271d656"
      },
      "execution_count": null,
      "outputs": [
        {
          "output_type": "stream",
          "name": "stdout",
          "text": [
            "IDEAL STABILIZER\n",
            "------------------------------------\n",
            "   INPUT  DATA    \n",
            "Uin       [V]:  7\n",
            "Uout      [V]:  16.8\n",
            "dUout     [%]:  2.0\n",
            "Rload    [Om]:  120\n",
            "Freq    [1/s]:  20000\n",
            "LIR          :  0.3\n",
            "R_ind    [Om]:  0.2\n",
            "------------------------------------\n",
            "   OUTPUT DATA    \n",
            "D:               0.5833333333333334\n",
            "Iout       [A]:  0.14\n",
            "T         [us]:  50.0\n",
            "Lmin      [uH]:  2025.4629629629628\n",
            "L         [uH]:  2200.0\n",
            "absdUout   [V]:  0.336\n",
            "t_impulse [us]:  29.16666666666667\n",
            "Iin        [A]:  0.30476190476190473\n",
            "------------------------------------\n",
            "di1        [A]:   0.09280303030303032\n",
            "di2        [A]:  -0.09280303030303029\n",
            "\n",
            "di1 + di2 =  2.7755575615628914e-17\n",
            "The law of conservation of energy is observed!\n",
            "\n",
            "Imax       [A]:   0.8545647804576374\n",
            "Imin       [A]:   0.7617617501546071\n",
            "Iin [A] 0.336\n",
            "Cout_min  [uF]:  12.152777777777779\n",
            "Pin        [W]:  2.3520000000000003\n"
          ]
        }
      ]
    }
  ]
}