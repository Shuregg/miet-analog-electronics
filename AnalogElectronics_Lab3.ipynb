{
  "nbformat": 4,
  "nbformat_minor": 0,
  "metadata": {
    "colab": {
      "provenance": [],
      "authorship_tag": "ABX9TyOtOXkBvl/gPFfgUOK84Axl",
      "include_colab_link": true
    },
    "kernelspec": {
      "name": "python3",
      "display_name": "Python 3"
    },
    "language_info": {
      "name": "python"
    }
  },
  "cells": [
    {
      "cell_type": "markdown",
      "metadata": {
        "id": "view-in-github",
        "colab_type": "text"
      },
      "source": [
        "<a href=\"https://colab.research.google.com/github/Shuregg/miet-analog-electronics/blob/main/AnalogElectronics_Lab3.ipynb\" target=\"_parent\"><img src=\"https://colab.research.google.com/assets/colab-badge.svg\" alt=\"Open In Colab\"/></a>"
      ]
    },
    {
      "cell_type": "markdown",
      "source": [
        "#МС34063"
      ],
      "metadata": {
        "id": "4d4HiYmBdaRs"
      }
    },
    {
      "cell_type": "markdown",
      "source": [
        "**С1**,**С2** – входной и выходной фильтрующие конденсаторы соответственно;\n",
        "**С3** – конденсатор задающий частоту коммутации fsw выходного транзистора;\n",
        "\n",
        "**R1** – токоограничивающий резистор, выбирается таким образом, чтобы величина падения напряжения на нем не превышала 330 мВ;\n",
        "\n",
        "**R2** – резистор, ограничивающий ток драйвера выходного транзистора, обычно в пределах 100…300 Ом;\n",
        "\n",
        "**R3**, **R4**– резисторы, образующие делитель выходного напряжения;\n",
        "\n",
        "**L1** – катушка индуктивности;\n",
        "\n",
        "**VD1** – диод;"
      ],
      "metadata": {
        "id": "k5ppRfSmhANZ"
      }
    },
    {
      "cell_type": "markdown",
      "source": [
        "𝑇𝑜𝑛+𝑇𝑜𝑓𝑓 = 1/𝑓𝑠𝑤\n",
        "\n",
        "𝑇𝑜𝑛𝑇𝑜𝑓𝑓 = (𝑈вых−𝑈вх)/(𝑈вх−𝑈𝑠𝑎𝑡)"
      ],
      "metadata": {
        "id": "ZooSfDu7hXIU"
      }
    },
    {
      "cell_type": "code",
      "execution_count": null,
      "metadata": {
        "colab": {
          "base_uri": "https://localhost:8080/"
        },
        "id": "ks_GEY1zZHWl",
        "outputId": "2917f8ac-788b-4016-8aa6-dcc8dac47004"
      },
      "outputs": [
        {
          "output_type": "stream",
          "name": "stdout",
          "text": [
            "              МС34063               \n",
            "------------------------------------\n",
            "   ДАНО:    \n",
            "   РАСЧЁТЫ:   \n",
            "k =  0.1282051282051282\n",
            "Ton     [s]:  3.333333333333333e-05\n",
            "Uout1    [V]:  9.75\n",
            "Toff    [s]:  2.631578947368421e-05\n",
            "fsw    [Hz]:  16764.705882352944\n",
            "fsw    [Hz]:  17000\n",
            "Uout2    [V]:  5.534\n",
            "Iload1    [A]:  0.04875\n",
            "Iload2    [A]:  0.05534\n",
            "IL_av_min  [F]: 0.09506250000000001\n",
            "dUout1_min   [V] 0.10453289473684213\n",
            "absdUout1   [%] 1.0721322537112012\n"
          ]
        }
      ],
      "source": [
        "#МС34063\n",
        "#Ton                       #время в течение которого открыт силовой транзистор.\n",
        "#Toff\n",
        "#Fsw                       #Максимальная частота коммутации для микросхемы МС34063 – 100кГц.\n",
        "\n",
        "\n",
        "print(\"              МС34063               \")\n",
        "print(\"------------------------------------\")\n",
        "print(\"   ДАНО:    \")\n",
        "Uin = 5\n",
        "Uref_st = 1.25\n",
        "C1=100 * 10**-6\n",
        "C2=10 * 10**-6\n",
        "C3 = 1500 * 10**-12\n",
        "R3 = 68 * 10**3\n",
        "R4 = 10 * 10**3\n",
        "Uref_imp = 1.25\n",
        "R5 = 200\n",
        "R6 = 680\n",
        "Usat = 1.25\n",
        "Iadj = 50 * 10 **(-6) #50 uA\n",
        "print(\"   РАСЧЁТЫ:   \")\n",
        "\n",
        "#C3 = 4.5 * 10**(-5) * Ton\n",
        "\n",
        "k = R4 / (R3 + R4)\n",
        "print(\"k = \", k)\n",
        "\n",
        "\n",
        "Ton =  C3 / (4.5 * 10**-5)\n",
        "print(\"Ton     [s]: \", Ton)\n",
        "\n",
        "\n",
        "\n",
        "Uout1 = Uref_st / k\n",
        "print(\"Uout1    [V]: \", Uout1)\n",
        "\n",
        "\n",
        "Toff = Ton / ((Uout - Uin) / (Uin - Usat))\n",
        "print(\"Toff    [s]: \", Toff)\n",
        "\n",
        "fsw = 1/ (Ton + Toff)\n",
        "print(\"fsw    [Hz]: \", fsw)\n",
        "fsw = 17000\n",
        "print(\"fsw    [Hz]: \", fsw)\n",
        "#LM317\n",
        "\n",
        "\n",
        "Uout2 = Uref_imp * (1 + R6 / R5)  +Iadj * R6\n",
        "\n",
        "print(\"Uout2    [V]: \", Uout2)\n",
        "Rload = 100\n",
        "Iload2 = Uout2 / Rload\n",
        "\n",
        "Iload1  = Uout1 / (2* Rload)\n",
        "print(\"Iload1    [A]: \", Iload1)\n",
        "print(\"Iload2    [A]: \", Iload2)\n",
        "IL_av_min = Iload1 * Uout1 / Uin\n",
        "print(\"IL_av_min  [F]:\", IL_av_min)\n",
        "dUout1_min = (Toff) * (IL_av_min - Iload2) / C2\n",
        "print(\"dUout1_min   [V]\", dUout1_min)\n",
        "\n",
        "absdUout1 = (dUout1_min / Uout1)\n",
        "print(\"absdUout1   [%]\", absdUout1 * 100)\n",
        "#Lmin = (Uin**2 * D) / (Iout * Uout * LIR * f)\n",
        "#𝑇𝑜𝑛+𝑇𝑜𝑓𝑓 = 1/𝑓𝑠𝑤\n",
        "#𝑇𝑜𝑛𝑇𝑜𝑓𝑓 = (𝑈вых−𝑈вх)/(𝑈вх−𝑈𝑠𝑎𝑡)"
      ]
    },
    {
      "cell_type": "markdown",
      "source": [
        "#LM317"
      ],
      "metadata": {
        "id": "UDyeZQx5ddnQ"
      }
    },
    {
      "cell_type": "code",
      "source": [
        "#LM317\n",
        "Iadj = 50 * 10 **(-6) #50 uA\n",
        "Uref = 1.25\n",
        "R1 = 10000\n",
        "R2 = 10000\n",
        "Uout = Uref * (1 + R2 / R1)  +Iadj * R2\n",
        "print(Uout)"
      ],
      "metadata": {
        "id": "PMjBAjfMdVwc",
        "colab": {
          "base_uri": "https://localhost:8080/"
        },
        "outputId": "575cad20-74e7-4fd4-d88e-b377befa10b4"
      },
      "execution_count": null,
      "outputs": [
        {
          "output_type": "stream",
          "name": "stdout",
          "text": [
            "3.0\n"
          ]
        }
      ]
    }
  ]
}